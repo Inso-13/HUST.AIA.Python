{
 "cells": [
  {
   "cell_type": "markdown",
   "metadata": {},
   "source": [
    "# Python大作业\n"
   ]
  },
  {
   "cell_type": "markdown",
   "metadata": {},
   "source": [
    "## 题目\n",
    "\n",
    "用 numpy 实现神经网络全连接层，并使用所实现的神经网络完成以下某一任务（二选一）：\n",
    "\n",
    "+ ■ 手写数字(mnist)数据集(sklearn.datasets.load_digits()) 上完成多分类任务\n",
    "+ □ 糖尿病数据集(sklearn.datasets.load_diabetes()) 完成回归任务"
   ]
  },
  {
   "cell_type": "markdown",
   "metadata": {},
   "source": [
    "## 要求\n",
    "使用numpy库来实现模型，不可使用PyTorch, Keras, TensorFlow, PaddlePaddle, MXNet, Caffe, Theano等深度学习框架。 文档需要详细说明定义的每一个类 (class)、方法 (method) 及函数 (function)，以及整个代码实现 逻辑。\n",
    "模型训练的过程或结果（loss值）需要绘图展示，且在文档中说明。 原则上要求仅使用numpy (用于建立模型)，scikit-learn (用于下载数据集) 及Python标准库，若有 其他需求需要和助教说明。"
   ]
  },
  {
   "cell_type": "markdown",
   "metadata": {},
   "source": [
    "## 环境"
   ]
  },
  {
   "cell_type": "markdown",
   "metadata": {},
   "source": [
    "+ windows 10 专业版 21H1\n",
    "+ Python 3.9.2"
   ]
  },
  {
   "cell_type": "markdown",
   "metadata": {},
   "source": [
    "## 目录\n",
    "```\n",
    "- nn\n",
    "--- Layers.py\n",
    "--- Loss.py\n",
    "--- Model.py\n",
    "--- optimizer.py\n",
    "- demo.py\n",
    "- requirements.txt\n",
    "- Python程序设计作业.pdf\n",
    "- README.ipynb\n",
    "```\n"
   ]
  },
  {
   "cell_type": "markdown",
   "metadata": {},
   "source": [
    "## 文件说明\n",
    "\n",
    "+ 各种神经网络层\n",
    "  [Layers.py](./nn/Layers.py)\n",
    "  \n",
    "+ 损失函数\n",
    "  [Loss.py](./nn/Loss.py)\n",
    "\n",
    "+ 神经网络模型\n",
    "  [Model.py](./nn/Model.py)\n",
    "    \n",
    "+ 优化子\n",
    "  [optimizer.py](./nn/optimizer.py)\n",
    "    \n",
    "+ 测试函数\n",
    "  [demo.py](./demo.py)\n",
    "    \n",
    "+ 库版本\n",
    "  [requirements.txt](./requirements.txt)"
   ]
  },
  {
   "cell_type": "markdown",
   "metadata": {},
   "source": [
    "## 代码实现逻辑"
   ]
  },
  {
   "cell_type": "markdown",
   "metadata": {},
   "source": [
    "+ 全连接层的实现难点主要集中在前向计算与反向传播的实现上\n",
    "  + 其中前向计算实际上比较容易实现\n",
    "  + 反向传播计算梯度较为困难\n",
    "    + 在实践上，将每一层神经网络抽象成一个Layer\n",
    "    + 每一个Layer都有自己的前一层和后一层\n",
    "    + 在前向计算时，链式调用每一层后一层的forward函数即可\n",
    "    + 在反向传播时，计算结束本层的梯度值后，需要继续调用前一层的backward函数继续计算前一层的梯度\n",
    "    + 梯度计算结束后，让每一层的参数减去学习率乘梯度即可\n",
    "    + 为简化代码，只在opt优化子中使用学习率lr乘一次梯度\n",
    "  + 使用Relu作为全连接层的激活函数\n",
    "  + 使用交叉熵作为模型训练的损失函数\n",
    "  + 使用SGD(随机梯度下降法)作为优化函数\n",
    "  + 本项目仅仅使用numpy库，并使用sklearn库获得mnist原始数据集，具体库环境可参考[requirements.txt](./requirements.txt)\n",
    "  + 神经网络结构为\n",
    "```\n",
    "    网络类型  神经元个数  参数量\n",
    "    Input       8*8         0\n",
    "    Flatten     64          0\n",
    "    Linear      64       4160\n",
    "    Relu                    0\n",
    "    Linear      10       4160\n",
    "    Relu                    0\n",
    "    Softmax                 \n",
    "    Output      10          0\n",
    "```\n",
    "  + 训练集大小 1500\n",
    "  + 测试集大小 297"
   ]
  },
  {
   "cell_type": "code",
   "execution_count": 1,
   "metadata": {},
   "outputs": [],
   "source": [
    "import numpy as np\n"
   ]
  },
  {
   "cell_type": "markdown",
   "metadata": {},
   "source": [
    "### Layers.py\n",
    "\n"
   ]
  },
  {
   "cell_type": "markdown",
   "metadata": {},
   "source": [
    "#### 基类"
   ]
  },
  {
   "cell_type": "code",
   "execution_count": 2,
   "metadata": {},
   "outputs": [],
   "source": [
    "\n",
    "class Layer(object):\n",
    "    \"\"\"神经网络层基类\n",
    "\n",
    "        实现了神经网络层的基本、必要功能\n",
    "        在此基类基础上，实现了Linear Relu Softmax Input Output Flatten层等\n",
    "\n",
    "        属性:\n",
    "            self.next_layer     :   该神经网络层的下一层\n",
    "            self.last_layer     :   该神经网络层的上一层\n",
    "            self.input_shape    :   该神经网络层的输入矩阵形状\n",
    "            self.output_shape   :   该神经网络层的输出矩阵形状\n",
    "            self.trainable      :   该神经网络层是否需要训练\n",
    "            self.input          :   该神经网络层的输入矩阵\n",
    "            self.output         :   该神经网络层的输出矩阵\n",
    "            self.gradient       :   该神经网络层的梯度\n",
    "    \"\"\"\n",
    "\n",
    "    def __init__(self, last_layer, trainable=True):\n",
    "        \"\"\"初始化函数\n",
    "\n",
    "        :param last_layer   :   该神经网络层的上一层\n",
    "        :param trainable    :   该神经网络层是否需要训练\n",
    "        \"\"\"\n",
    "        self.next_layer = None\n",
    "        self.last_layer = last_layer\n",
    "        if self.last_layer is not None:\n",
    "            self.last_layer.next_layer = self\n",
    "        if self.last_layer is not None:\n",
    "            self.input_shape = self.last_layer.output_shape\n",
    "        else:\n",
    "            self.input_shape = None\n",
    "        self.trainable = trainable\n",
    "        self.output_shape = None\n",
    "        self.input = None\n",
    "        self.output = None\n",
    "        self.gradient = None\n",
    "\n",
    "    def forward(self, input_x):\n",
    "        \"\"\"前向计算函数\n",
    "\n",
    "        :param input_x  :   输入矩阵\n",
    "        :return         :   无\n",
    "        \"\"\"\n",
    "        pass\n",
    "\n",
    "    def backward(self, gradient):\n",
    "        \"\"\"反向传播函数\n",
    "\n",
    "        :param gradient :   该神经网络层的梯度\n",
    "        :return         :   无\n",
    "        \"\"\"\n",
    "        pass\n"
   ]
  },
  {
   "cell_type": "markdown",
   "metadata": {},
   "source": [
    "#### 全连接层"
   ]
  },
  {
   "cell_type": "code",
   "execution_count": 3,
   "metadata": {},
   "outputs": [],
   "source": [
    "\n",
    "class Linear(Layer):\n",
    "    \"\"\"全连接层\n",
    "\n",
    "        最重要的神经网络层之一，实现了全连接层的功能\n",
    "\n",
    "        属性:\n",
    "            self.weights    :   全连接层的连接权重矩阵\n",
    "            self.bias       :   全连接层的连接常数偏移量\n",
    "    \"\"\"\n",
    "\n",
    "    def __init__(self, last_layer, output_units):\n",
    "        \"\"\"初始化函数\n",
    "\n",
    "        :param last_layer   :   该全连接层的上一层\n",
    "        :param output_units :   该全连接层的输出神经元数\n",
    "        \"\"\"\n",
    "        super().__init__(last_layer=last_layer, trainable=True)\n",
    "        self.output_shape = (output_units, 1)\n",
    "\n",
    "        # 初始化连接矩阵权重\n",
    "        limit = np.sqrt(6 / (self.input_shape[0] + self.output_shape[0]))\n",
    "        self.weights = np.random.uniform(-1 * limit, limit,\n",
    "                                         size=(self.input_shape[0], self.output_shape[0]))\n",
    "        self.bias = np.zeros((self.output_shape[0], 1))\n",
    "\n",
    "    def forward(self, input_x):\n",
    "        \"\"\"前向计算函数\n",
    "\n",
    "        :param input_x  :   输入矩阵\n",
    "        :return         :   无\n",
    "        \"\"\"\n",
    "        self.input = input_x.copy()\n",
    "\n",
    "        # 相当于y=wT*x+b\n",
    "        self.output = self.weights.T.dot(self.input) + self.bias\n",
    "        self.next_layer.forward(self.output)\n",
    "\n",
    "    def backward(self, gradient):\n",
    "        \"\"\"反向传播函数\n",
    "\n",
    "        :param gradient :   上一层的梯度值\n",
    "        :return         :   无\n",
    "        \"\"\"\n",
    "        self.gradient = gradient.copy()\n",
    "\n",
    "        # 反向传播梯度\n",
    "        last_layer_gradient = self.weights.dot(self.gradient)\n",
    "        self.last_layer.backward(gradient=last_layer_gradient)\n",
    "\n",
    "        # w的梯度系数实际上是输入矩阵x\n",
    "        # b的梯度系数始终为1\n",
    "        grad_for_w = np.tile(self.input.T, self.output_shape)\n",
    "\n",
    "        # 更新参数\n",
    "        self.weights -= (grad_for_w * self.gradient).T\n",
    "        self.bias -= self.gradient\n"
   ]
  },
  {
   "cell_type": "markdown",
   "metadata": {},
   "source": [
    "#### 输入层"
   ]
  },
  {
   "cell_type": "code",
   "execution_count": 4,
   "metadata": {},
   "outputs": [],
   "source": [
    "\n",
    "class Input(Layer):\n",
    "    \"\"\"输入层\n",
    "\n",
    "        接受起初输入的数据\n",
    "        一轮训练开始时使用\n",
    "\n",
    "    \"\"\"\n",
    "\n",
    "    def __init__(self, input_shape):\n",
    "        \"\"\"初始化函数\n",
    "\n",
    "        :param input_shape:\n",
    "        \"\"\"\n",
    "        super().__init__(last_layer=None, trainable=False)\n",
    "        self.output_shape = input_shape\n",
    "\n",
    "    def forward(self, input_x):\n",
    "        \"\"\"前向计算函数\n",
    "\n",
    "        :param input_x  :   输入的数据\n",
    "        :return         :   无\n",
    "        \"\"\"\n",
    "        self.input = input_x.copy()\n",
    "        self.next_layer.forward(input_x=input_x)\n"
   ]
  },
  {
   "cell_type": "markdown",
   "metadata": {},
   "source": [
    "#### 输出层"
   ]
  },
  {
   "cell_type": "code",
   "execution_count": 5,
   "metadata": {},
   "outputs": [],
   "source": [
    "\n",
    "class Output(Layer):\n",
    "    \"\"\"输出层\n",
    "\n",
    "        输出最终计算得到的数据\n",
    "        一轮训练结束时使用\n",
    "\n",
    "    \"\"\"\n",
    "\n",
    "    def __init__(self, last_layer=None):\n",
    "        \"\"\"初始化函数\n",
    "\n",
    "        :param last_layer   :   模型上一层\n",
    "        \"\"\"\n",
    "        super().__init__(last_layer=last_layer, trainable=False)\n",
    "\n",
    "    def forward(self, input_x):\n",
    "        \"\"\"前向计算函数\n",
    "\n",
    "        :param input_x  :   输入矩阵\n",
    "        :return         :   无\n",
    "        \"\"\"\n",
    "        self.output = input_x.copy()\n",
    "\n",
    "    def backward(self, gradient):\n",
    "        \"\"\"反向传播函数\n",
    "\n",
    "        :param gradient :   上一层的梯度\n",
    "        :return         :   无\n",
    "        \"\"\"\n",
    "        self.gradient = gradient.copy()\n",
    "        self.last_layer.backward(gradient=self.gradient)\n"
   ]
  },
  {
   "cell_type": "markdown",
   "metadata": {},
   "source": [
    "#### 线性化层"
   ]
  },
  {
   "cell_type": "code",
   "execution_count": 6,
   "metadata": {},
   "outputs": [],
   "source": [
    "\n",
    "class Flatten(Layer):\n",
    "    \"\"\"线性化层\n",
    "\n",
    "        例如输入矩阵形状为(a, b, c), 则输出矩阵形状为(a*b*c, 1)\n",
    "\n",
    "    \"\"\"\n",
    "\n",
    "    def __init__(self, last_layer=None):\n",
    "        \"\"\"初始化函数\n",
    "\n",
    "        :param last_layer   :   模型的上一层\n",
    "        \"\"\"\n",
    "        super().__init__(last_layer=last_layer, trainable=False)\n",
    "        self.output_shape = (np.prod(self.input_shape), 1)\n",
    "\n",
    "    def forward(self, input_x):\n",
    "        \"\"\"前向计算函数\n",
    "\n",
    "        :param input_x  :   当前层的输入\n",
    "        :return         :   无\n",
    "        \"\"\"\n",
    "        self.input = input_x.copy()\n",
    "        self.next_layer.forward(input_x=self.input.reshape(self.output_shape))\n",
    "\n",
    "    def backward(self, gradient):\n",
    "        \"\"\"反向传播函数\n",
    "\n",
    "        :param gradient :   当前层输出对损失函数的梯度\n",
    "        :return         :   无\n",
    "        \"\"\"\n",
    "        self.gradient = gradient.copy()\n",
    "        last_layer_gradient = self.gradient.reshape(self.input_shape)\n",
    "        self.last_layer.backward(gradient=last_layer_gradient)\n"
   ]
  },
  {
   "cell_type": "markdown",
   "metadata": {},
   "source": [
    "#### 激活函数层（Relu）"
   ]
  },
  {
   "cell_type": "code",
   "execution_count": 7,
   "metadata": {},
   "outputs": [],
   "source": [
    "\n",
    "class Relu(Layer):\n",
    "    \"\"\"非线性化激活层\n",
    "\n",
    "        负责激活全连接层的输出，使神经网络非线性化\n",
    "\n",
    "    \"\"\"\n",
    "\n",
    "    def __init__(self, last_layer=None):\n",
    "        \"\"\"初始化函数\n",
    "\n",
    "        :param last_layer   : 该激活函数层的上一层\n",
    "        \"\"\"\n",
    "        super().__init__(last_layer=last_layer, trainable=False)\n",
    "        self.output_shape = self.input_shape\n",
    "\n",
    "    def forward(self, input_x):\n",
    "        \"\"\"前向计算函数\n",
    "\n",
    "        :param input_x  :   输入矩阵\n",
    "        :return         :   无\n",
    "        \"\"\"\n",
    "        self.input = input_x.copy()\n",
    "        self.next_layer.forward(input_x=np.maximum(input_x, 0))\n",
    "\n",
    "    def backward(self, gradient):\n",
    "        \"\"\"反向传播函数\n",
    "\n",
    "        :param gradient :    梯度值\n",
    "        :return         :    无\n",
    "        \"\"\"\n",
    "        self.gradient = gradient.copy()\n",
    "\n",
    "        # 根据Relu函数的分段特性知，\n",
    "        #   如果输入大于0，对应位置的梯度等于上一层回传的梯度，否则为零\n",
    "        select_mat = np.zeros(shape=self.input.shape)\n",
    "        select_mat = np.greater(self.input, select_mat).astype(np.int32)\n",
    "        last_layer_gradient = select_mat * self.gradient\n",
    "        self.last_layer.backward(gradient=last_layer_gradient)\n"
   ]
  },
  {
   "cell_type": "markdown",
   "metadata": {},
   "source": [
    "#### Softmax层"
   ]
  },
  {
   "cell_type": "code",
   "execution_count": 8,
   "metadata": {},
   "outputs": [],
   "source": [
    "\n",
    "class Softmax(Layer):\n",
    "    \"\"\"Softmax多分类层\n",
    "\n",
    "        负责将被激活的全连接层的输出结果归一化后计算分类\n",
    "\n",
    "        属性:\n",
    "            self.exp_input      :   输入矩阵的exp值\n",
    "            self.sum_exp_input  :   输入矩阵的exp值的和\n",
    "            self.tp             :   self.exp_input / self.sum_exp_input\n",
    "                                    用于计算梯度\n",
    "    \"\"\"\n",
    "\n",
    "    def __init__(self, last_layer=None):\n",
    "        \"\"\"初始化函数\n",
    "\n",
    "        :param last_layer   :   模型的上一层\n",
    "        \"\"\"\n",
    "        super().__init__(last_layer=last_layer, trainable=False)\n",
    "        self.output_shape = self.input_shape\n",
    "        self.exp_input = None\n",
    "        self.sum_exp_input = None\n",
    "        self.tp = None\n",
    "\n",
    "    def forward(self, input_x):\n",
    "        \"\"\"前向计算函数\n",
    "\n",
    "        :param input_x  :   输入矩阵\n",
    "        :return         :   无\n",
    "        \"\"\"\n",
    "        self.input = input_x.copy()\n",
    "        self.exp_input = np.exp(self.input)\n",
    "        self.sum_exp_input = np.sum(self.exp_input)\n",
    "        self.output = self.exp_input / self.sum_exp_input\n",
    "        self.next_layer.forward(input_x=self.output)\n",
    "\n",
    "    def backward(self, gradient):\n",
    "        \"\"\"反向传播函数\n",
    "\n",
    "        :param gradient     :   上一层的梯度\n",
    "        :return             :   无\n",
    "        \"\"\"\n",
    "        self.gradient = gradient.copy()\n",
    "        self.tp = self.exp_input / self.sum_exp_input\n",
    "        last_layer_gradient = np.zeros(\n",
    "            shape=self.input_shape, dtype=np.float64)\n",
    "\n",
    "        # 梯度计算\n",
    "        for i in range(self.input_shape[0]):\n",
    "            gradient_for_Ii = np.zeros(\n",
    "                shape=self.input_shape, dtype=np.float64)\n",
    "\n",
    "            # 分类标签值与预测值是否相等讨论\n",
    "            for j in range(self.input_shape[0]):\n",
    "                if i == j:\n",
    "                    gradient_for_Ii[j] = self.output[i] * (1 - self.output[i])\n",
    "                else:\n",
    "                    gradient_for_Ii[j] = -1 * self.output[i] * self.output[j]\n",
    "\n",
    "            last_layer_gradient[i] = np.sum(gradient_for_Ii * self.gradient)\n",
    "\n",
    "        self.last_layer.backward(gradient=last_layer_gradient)\n"
   ]
  },
  {
   "cell_type": "markdown",
   "metadata": {},
   "source": [
    "### Loss.py"
   ]
  },
  {
   "cell_type": "code",
   "execution_count": 9,
   "metadata": {},
   "outputs": [],
   "source": [
    "class Cross_entropy(object):\n",
    "    \"\"\"交叉熵\n",
    "\n",
    "        实现loss函数的计算（交叉熵）\n",
    "\n",
    "        参数:\n",
    "            self.output :   预测值\n",
    "            self.target :   标签值\n",
    "            self.error  :   交叉熵\n",
    "    \"\"\"\n",
    "\n",
    "    def __init__(self):\n",
    "        self.output = None\n",
    "        self.target = None\n",
    "        self.error = None\n",
    "\n",
    "    def get_error(self, output, target):\n",
    "        \"\"\"\n",
    "\n",
    "        :param output   :   预测值\n",
    "        :param target   :   标签值\n",
    "        :return         :   交叉熵\n",
    "        \"\"\"\n",
    "        self.output = output\n",
    "        self.target = target\n",
    "\n",
    "        # 交叉熵计算\n",
    "        self.error = -1 * np.sum(self.target * np.log(self.output))\n",
    "        return self.error\n",
    "\n",
    "    def get_gradient(self):\n",
    "        \"\"\"获得梯度值\n",
    "\n",
    "        :return :   梯度值\n",
    "        \"\"\"\n",
    "        return -1 * self.target / self.output\n"
   ]
  },
  {
   "cell_type": "markdown",
   "metadata": {},
   "source": [
    "### Model.py"
   ]
  },
  {
   "cell_type": "code",
   "execution_count": 10,
   "metadata": {},
   "outputs": [],
   "source": [
    "\n",
    "class Model(object):\n",
    "    \"\"\"神经网络模型\n",
    "\n",
    "        神经网络模型，高层API\n",
    "\n",
    "        属性:\n",
    "            self.input_layer  :     模型的输入层\n",
    "            self.output_layer :     模型的输出层\n",
    "            self.loss         :     模型的损失函数\n",
    "            self.opt          :     模型的优化子\n",
    "\n",
    "    \"\"\"\n",
    "\n",
    "    def __init__(self, input_layer=None, output_layer=None, loss=None, opt=None):\n",
    "        \"\"\"初始化函数\n",
    "\n",
    "        :param input_layer  :   模型的输入层\n",
    "        :param output_layer :   模型的输出层\n",
    "        :param loss         :   模型的损失函数\n",
    "        :param opt          :   模型的优化子\n",
    "        \"\"\"\n",
    "        self.input_layer = input_layer\n",
    "        self.output_layer = output_layer\n",
    "        self.loss = loss\n",
    "        self.opt = opt\n",
    "        self.opt.set_model(self)\n",
    "\n",
    "    def fit(self, x_train, y_train, epochs=50, batch_size=1500):\n",
    "        \"\"\"模型训练函数\n",
    "\n",
    "        :param x_train      :   用于训练的输入值\n",
    "        :param y_train      :   用于训练的标签值\n",
    "        :param epochs       :   训练的总轮数\n",
    "        :param batch_size   :   训练的batch大小\n",
    "        :return             :   训练过程中的loss值\n",
    "\n",
    "        \"\"\"\n",
    "\n",
    "        # 用于跟踪训练过程中的loss值\n",
    "        E = []\n",
    "\n",
    "        train_size = x_train.shape[0]\n",
    "\n",
    "        # 对于训练的每一轮\n",
    "        for epoch in range(epochs):\n",
    "            e = 0\n",
    "\n",
    "            # 随机选择batch_size大小数据集训练\n",
    "            for i in range(batch_size):\n",
    "                ridx = np.sum(np.random.randint(0, train_size, (1,)))\n",
    "                error = self.train_once(\n",
    "                    input_x=x_train[ridx], target=y_train[ridx])\n",
    "                e += error\n",
    "            E.append(e / batch_size)\n",
    "            print('epoch:', epoch, '  loss:', e / batch_size)\n",
    "        return E\n",
    "\n",
    "    def predict(self, input_x):\n",
    "        \"\"\"预测函数\n",
    "\n",
    "        :param input_x  :   需要预测的输入值\n",
    "        :return         :   模型的输出值\n",
    "\n",
    "        \"\"\"\n",
    "        self.input_layer.forward(input_x=input_x)\n",
    "        output = self.output_layer.output\n",
    "        return output\n",
    "\n",
    "    def train_once(self, input_x, target):\n",
    "        \"\"\"\n",
    "\n",
    "        :param input_x  :   输入数据\n",
    "        :param target   :   训练目标（标签值）\n",
    "        :return         :   单次训练的loss值\n",
    "\n",
    "        \"\"\"\n",
    "        self.input_layer.forward(input_x=input_x)\n",
    "        output = self.output_layer.output\n",
    "\n",
    "        # 单次训练的loss值\n",
    "        error = self.loss.get_error(output=output, target=target)\n",
    "        self.output_layer.gradient = self.loss.get_gradient()\n",
    "\n",
    "        # 优化子步进，更新参数\n",
    "        self.opt.step()\n",
    "        return error\n"
   ]
  },
  {
   "cell_type": "markdown",
   "metadata": {},
   "source": [
    "### optimizer.py"
   ]
  },
  {
   "cell_type": "code",
   "execution_count": 11,
   "metadata": {},
   "outputs": [],
   "source": [
    "class SGD(object):\n",
    "    \"\"\"随机梯度下降法\n",
    "\n",
    "        参数:\n",
    "            self.model      :   该优化子的目标优化模型\n",
    "            self.lr         :   该优化子的学习率\n",
    "            self.momentum   :   随机梯度下降法的动量系数\n",
    "            self.mt         :   当前的累计动量值\n",
    "    \"\"\"\n",
    "\n",
    "    def __init__(self, lr=0.05, momentum=0.0):\n",
    "        \"\"\"初始化函数\n",
    "\n",
    "        :param lr       :   学习率\n",
    "        :param momentum :   动量系数\n",
    "        \"\"\"\n",
    "        self.model = None\n",
    "        self.lr = lr\n",
    "        self.momentum = momentum\n",
    "        self.mt = 0\n",
    "\n",
    "    def set_model(self, model):\n",
    "        \"\"\"设置该优化子的目标优化模型\n",
    "\n",
    "        :param model    :   该优化子的目标优化模型\n",
    "        :return         :   无\n",
    "        \"\"\"\n",
    "        self.model = model\n",
    "\n",
    "    def step(self):\n",
    "        \"\"\"优化子步进一步（开启反向传播优化）\n",
    "\n",
    "        :return :   无\n",
    "        \"\"\"\n",
    "        self.mt = self.momentum * self.mt + self.lr * self.model.output_layer.gradient\n",
    "        self.model.output_layer.backward(self.mt)\n"
   ]
  },
  {
   "cell_type": "markdown",
   "metadata": {},
   "source": [
    "## 测试代码"
   ]
  },
  {
   "cell_type": "markdown",
   "metadata": {},
   "source": [
    "### 函数库调用"
   ]
  },
  {
   "cell_type": "code",
   "execution_count": 12,
   "metadata": {},
   "outputs": [],
   "source": [
    "import numpy as np\n",
    "from matplotlib import pyplot as plt\n",
    "from sklearn import datasets\n",
    "\n",
    "from nn import Loss\n",
    "from nn.Layers import Input, Output, Linear, Relu, Softmax, Flatten\n",
    "from nn.Model import Model\n",
    "from nn.optimizer import SGD"
   ]
  },
  {
   "cell_type": "markdown",
   "metadata": {},
   "source": [
    "### 数据集展示测试"
   ]
  },
  {
   "cell_type": "code",
   "execution_count": 13,
   "metadata": {},
   "outputs": [
    {
     "data": {
      "image/png": "[encoded data removed]",
      "text/plain": [
       "<Figure size 720x720 with 100 Axes>"
      ]
     },
     "metadata": {},
     "output_type": "display_data"
    }
   ],
   "source": [
    "def draw_test():\n",
    "    \"\"\"数据集展示测试\n",
    "\n",
    "    :return :   无\n",
    "    \"\"\"\n",
    "    fig, axes = plt.subplots(10, 10, figsize=(10, 10))\n",
    "    fig.subplots_adjust(hspace=0.1, wspace=0.1)\n",
    "    digits = datasets.load_digits()\n",
    "    X = np.array(digits.images)\n",
    "    Y = np.array(digits.target)\n",
    "    for i, ax in enumerate(axes.flat):\n",
    "        ax.imshow(X[i].reshape(8, 8), cmap=\"binary\")\n",
    "        ax.text(0.5, 1, str(Y[i]), color=\"red\")\n",
    "        ax.set_xticks([])\n",
    "        ax.set_yticks([])\n",
    "    plt.show()\n",
    "\n",
    "draw_test()"
   ]
  },
  {
   "cell_type": "markdown",
   "metadata": {},
   "source": [
    "### 全连接神经网络实现mnist数据集分类测试"
   ]
  },
  {
   "cell_type": "markdown",
   "metadata": {},
   "source": [
    "+ 设置随机种子，保证可复现"
   ]
  },
  {
   "cell_type": "code",
   "execution_count": 14,
   "metadata": {},
   "outputs": [],
   "source": [
    "np.random.seed(0)\n"
   ]
  },
  {
   "cell_type": "markdown",
   "metadata": {},
   "source": [
    "+ 总类数"
   ]
  },
  {
   "cell_type": "code",
   "execution_count": 15,
   "metadata": {},
   "outputs": [],
   "source": [
    "n_classes = 10\n"
   ]
  },
  {
   "cell_type": "markdown",
   "metadata": {},
   "source": [
    "+ 获得数据集"
   ]
  },
  {
   "cell_type": "code",
   "execution_count": 16,
   "metadata": {},
   "outputs": [],
   "source": [
    "digits = datasets.load_digits()\n",
    "X = np.array(digits.images)\n",
    "Y = np.array(digits.target)\n"
   ]
  },
  {
   "cell_type": "markdown",
   "metadata": {},
   "source": [
    "+ 数据集变形预处理"
   ]
  },
  {
   "cell_type": "code",
   "execution_count": 17,
   "metadata": {},
   "outputs": [],
   "source": [
    "X = np.expand_dims(X, -1) / 255\n",
    "Y = np.expand_dims(np.eye(n_classes)[Y], -1)\n"
   ]
  },
  {
   "cell_type": "markdown",
   "metadata": {},
   "source": [
    "+ 分割数据集"
   ]
  },
  {
   "cell_type": "code",
   "execution_count": 18,
   "metadata": {},
   "outputs": [],
   "source": [
    "x_train = X[:1500, ]\n",
    "y_train = Y[:1500, ]\n",
    "x_test = X[1500:, ]\n",
    "y_test = Y[1500:, ]\n"
   ]
  },
  {
   "cell_type": "markdown",
   "metadata": {},
   "source": [
    "+ 声明构建每一层神经网络"
   ]
  },
  {
   "cell_type": "code",
   "execution_count": 19,
   "metadata": {},
   "outputs": [],
   "source": [
    "input_layer = Input(input_shape=(8, 8, 1))\n",
    "flatten = Flatten(last_layer=input_layer)\n",
    "d1 = Linear(output_units=64, last_layer=flatten)\n",
    "r1 = Relu(last_layer=d1)\n",
    "d3 = Linear(output_units=64, last_layer=r1)\n",
    "r3 = Relu(last_layer=d3)\n",
    "d2 = Linear(output_units=10, last_layer=r3)\n",
    "r2 = Relu(last_layer=d2)\n",
    "sm = Softmax(last_layer=r2)\n",
    "output = Output(last_layer=sm)\n"
   ]
  },
  {
   "cell_type": "markdown",
   "metadata": {},
   "source": [
    "+ 随机梯度下降优化子"
   ]
  },
  {
   "cell_type": "code",
   "execution_count": 20,
   "metadata": {},
   "outputs": [],
   "source": [
    "opt = SGD(lr=0.05, momentum=0.)\n"
   ]
  },
  {
   "cell_type": "markdown",
   "metadata": {},
   "source": [
    "+ 交叉熵损失函数"
   ]
  },
  {
   "cell_type": "code",
   "execution_count": 21,
   "metadata": {},
   "outputs": [],
   "source": [
    "ce = Loss.Cross_entropy()\n"
   ]
  },
  {
   "cell_type": "markdown",
   "metadata": {},
   "source": [
    "+ 模型构建"
   ]
  },
  {
   "cell_type": "code",
   "execution_count": 22,
   "metadata": {},
   "outputs": [],
   "source": [
    "model = Model(input_layer=input_layer, output_layer=output, loss=ce, opt=opt)\n"
   ]
  },
  {
   "cell_type": "markdown",
   "metadata": {},
   "source": [
    "+ 模型训练"
   ]
  },
  {
   "cell_type": "code",
   "execution_count": 23,
   "metadata": {},
   "outputs": [
    {
     "name": "stdout",
     "output_type": "stream",
     "text": [
      "epoch: 0   loss: 2.2957299251111203\n",
      "epoch: 1   loss: 2.2208298867882355\n",
      "epoch: 2   loss: 2.0580808405023983\n",
      "epoch: 3   loss: 1.9191651491487265\n",
      "epoch: 4   loss: 1.8027993713890338\n",
      "epoch: 5   loss: 1.7945001544279133\n",
      "epoch: 6   loss: 1.856467826774613\n",
      "epoch: 7   loss: 1.7788102294067885\n",
      "epoch: 8   loss: 1.8017467414519146\n",
      "epoch: 9   loss: 1.7945354451705868\n",
      "epoch: 10   loss: 1.7325826488127578\n",
      "epoch: 11   loss: 1.711309777727397\n",
      "epoch: 12   loss: 1.7262191360159398\n",
      "epoch: 13   loss: 1.7139832885766297\n",
      "epoch: 14   loss: 1.6822486617455286\n",
      "epoch: 15   loss: 1.7013113422284885\n",
      "epoch: 16   loss: 1.7207912043941778\n",
      "epoch: 17   loss: 1.9247187669657857\n",
      "epoch: 18   loss: 1.918834414628251\n",
      "epoch: 19   loss: 1.8701110241846866\n",
      "epoch: 20   loss: 1.8775222884229108\n",
      "epoch: 21   loss: 1.4645606388615748\n",
      "epoch: 22   loss: 1.407349284504473\n",
      "epoch: 23   loss: 1.1907992737918782\n",
      "epoch: 24   loss: 1.0308020893216963\n",
      "epoch: 25   loss: 0.9667439679951303\n",
      "epoch: 26   loss: 0.7642384565366714\n",
      "epoch: 27   loss: 0.7055317630247024\n",
      "epoch: 28   loss: 0.5601800682625897\n",
      "epoch: 29   loss: 0.5335512138740164\n",
      "epoch: 30   loss: 0.46767479961348946\n",
      "epoch: 31   loss: 0.4122454165547309\n",
      "epoch: 32   loss: 0.36281291738479415\n",
      "epoch: 33   loss: 0.3308881052211891\n",
      "epoch: 34   loss: 0.2882775780033746\n",
      "epoch: 35   loss: 0.2406031833690311\n",
      "epoch: 36   loss: 0.2933854925843389\n",
      "epoch: 37   loss: 0.2330540117543786\n",
      "epoch: 38   loss: 0.22810547563048572\n",
      "epoch: 39   loss: 0.22342860583153362\n",
      "epoch: 40   loss: 0.20027822037560566\n",
      "epoch: 41   loss: 0.1698453745352915\n",
      "epoch: 42   loss: 0.19801282724450792\n",
      "epoch: 43   loss: 0.1810739639631006\n",
      "epoch: 44   loss: 0.1600697960778084\n",
      "epoch: 45   loss: 0.15002468875097358\n",
      "epoch: 46   loss: 0.15496492384694693\n",
      "epoch: 47   loss: 0.10304918649794012\n",
      "epoch: 48   loss: 0.10883327377488604\n",
      "epoch: 49   loss: 0.15604303408900447\n"
     ]
    }
   ],
   "source": [
    "losses = model.fit(x_train=x_train, y_train=y_train,\n",
    "                   epochs=50, batch_size=1500)\n"
   ]
  },
  {
   "cell_type": "markdown",
   "metadata": {},
   "source": [
    "+ 模型测试"
   ]
  },
  {
   "cell_type": "code",
   "execution_count": 24,
   "metadata": {},
   "outputs": [
    {
     "name": "stdout",
     "output_type": "stream",
     "text": [
      "accruacy is  0.9259259259259259\n"
     ]
    }
   ],
   "source": [
    "cnt = 0\n",
    "for i in range(x_test.shape[0]):\n",
    "    o = model.predict(input_x=x_test[i])\n",
    "    o = o[..., 0]\n",
    "    t = y_test[i][..., 0]\n",
    "\n",
    "    pl = np.argmax(o)\n",
    "    pt = np.argmax(t)\n",
    "    if pl == pt:\n",
    "        cnt += 1\n",
    "print('accruacy is ', cnt / x_test.shape[0])\n"
   ]
  },
  {
   "cell_type": "markdown",
   "metadata": {},
   "source": [
    "+ 绘制loss变化曲线及前十张图片的测试结果"
   ]
  },
  {
   "cell_type": "code",
   "execution_count": 25,
   "metadata": {},
   "outputs": [
    {
     "data": {
      "image/png": "[encoded data removed]",
      "text/plain": [
       "<Figure size 432x288 with 11 Axes>"
      ]
     },
     "metadata": {
      "needs_background": "light"
     },
     "output_type": "display_data"
    }
   ],
   "source": [
    "# 绘制loss变化曲线\n",
    "plt.xlabel(\"epochs\")\n",
    "plt.subplot(3, 5, 3)\n",
    "plt.title(\"losses\")\n",
    "plt.plot(losses)\n",
    "\n",
    "# 绘制前十张图片的测试结果\n",
    "for i in range(10):\n",
    "    pred = model.predict(input_x=x_test[i])\n",
    "    pred = pred[..., 0]\n",
    "    t = y_test[i][..., 0]\n",
    "    pl = np.argmax(pred)\n",
    "    pt = np.argmax(t)\n",
    "    plt.subplot(3, 5, i + 6)\n",
    "    plt.title(\"{}->{}\".format(pt, pl))\n",
    "    plt.imshow(x_test[i].reshape(8, 8))\n",
    "plt.show()\n"
   ]
  }
 ],
 "metadata": {
  "interpreter": {
   "hash": "bd4c67ef142469da7dc4d338a32ac40116904d26076b8e6aa587d80720bc6a2b"
  },
  "kernelspec": {
   "display_name": "Python 3.9.2 64-bit",
   "language": "python",
   "name": "python3"
  },
  "language_info": {
   "codemirror_mode": {
    "name": "ipython",
    "version": 3
   },
   "file_extension": ".py",
   "mimetype": "text/x-python",
   "name": "python",
   "nbconvert_exporter": "python",
   "pygments_lexer": "ipython3",
   "version": "3.9.2"
  },
  "orig_nbformat": 4
 },
 "nbformat": 4,
 "nbformat_minor": 2
}
